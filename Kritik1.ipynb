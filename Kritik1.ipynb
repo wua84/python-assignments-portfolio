{
 "cells": [
  {
   "cell_type": "code",
   "execution_count": 4,
   "id": "124f0123-65a9-41d5-a7bd-9c03a94d66a8",
   "metadata": {},
   "outputs": [
    {
     "name": "stdout",
     "output_type": "stream",
     "text": [
      "Error!\n",
      "0\n",
      "(0, 0, 0.0)\n",
      "(0.24498697916666665, 3, 8.719308035714285e-06)\n",
      "(0.46368427579365074, 5, 4.438920454545455e-05)\n",
      "(0.6435394700943785, 11, 5.816761029294689e-05)\n",
      "(0.7853481633979478, 5000, 9.999000099990002e-05)\n"
     ]
    }
   ],
   "source": [
    "def arctan(x):\n",
    "    if x < 0 or x > 1:\n",
    "        print(\"Error!\")\n",
    "        return 0\n",
    "    \n",
    "    su = 0\n",
    "    n = 0\n",
    "    while  pow(x, 2*n+1)/(2*n+1) >= 0.0001:\n",
    "        su += (pow(-1, n)*pow(x, 2*n+1))/(2*n+1) \n",
    "        n+=1\n",
    "        \n",
    "    return (su, n, pow(x, 2*n+1)/(2*n+1))\n",
    "\n",
    "print(arctan(-1))\n",
    "print(arctan(0))\n",
    "print(arctan(0.25))\n",
    "print(arctan(0.5))\n",
    "print(arctan(0.75))\n",
    "print(arctan(1))\n",
    "    "
   ]
  },
  {
   "cell_type": "markdown",
   "id": "49971236-d116-4e59-9102-b04aa0b4318f",
   "metadata": {},
   "source": []
  }
 ],
 "metadata": {
  "kernelspec": {
   "display_name": "Python 3 (ipykernel)",
   "language": "python",
   "name": "python3"
  },
  "language_info": {
   "codemirror_mode": {
    "name": "ipython",
    "version": 3
   },
   "file_extension": ".py",
   "mimetype": "text/x-python",
   "name": "python",
   "nbconvert_exporter": "python",
   "pygments_lexer": "ipython3",
   "version": "3.11.9"
  }
 },
 "nbformat": 4,
 "nbformat_minor": 5
}
