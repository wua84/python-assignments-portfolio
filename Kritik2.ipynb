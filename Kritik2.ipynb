{
 "cells": [
  {
   "cell_type": "code",
   "execution_count": 20,
   "id": "95013d0c-b167-4a97-9058-3840f5302752",
   "metadata": {},
   "outputs": [
    {
     "name": "stdout",
     "output_type": "stream",
     "text": [
      "Test case 1: Root found: 0.2698741376\n",
      "Test case 2: Root found: 0.8336061944\n",
      "Test case 3: Root found: 3.1415926536\n",
      "Test case 4: No root found.\n"
     ]
    }
   ],
   "source": [
    "import numpy as np\n",
    "\n",
    "def roots(f, a, b):\n",
    "    if f(a) * f(b) >= 0:\n",
    "        return None \n",
    "    \n",
    "    while(b - a) / 2 > 10**-10:\n",
    "        midpoint = (a + b) / 2.0\n",
    "        if f(midpoint) == 0:\n",
    "            return midpoint\n",
    "        elif f(a) * f(midpoint) < 0:\n",
    "            b = midpoint\n",
    "        else:\n",
    "            a = midpoint\n",
    "    \n",
    "    return (a + b) / 2.0\n",
    "\n",
    "def f1(x): return np.exp(x) + np.log(x) if x > 0 else float('inf')\n",
    "def f2(x): return np.arctan(x) - (x ** 2)\n",
    "def f3(x): return np.sin(x)/np.log(x)\n",
    "def f4(x): return np.log(np.cos(x)) if np.cos(x) > 0 else float('inf')\n",
    "\n",
    "test_cases = [\n",
    "    (f1, 0.01, 1, 0.1),\n",
    "    (f2, 0, 2, 0.1),\n",
    "    (f3, 3, 4, 0.1),\n",
    "    (f4, 5, 7, 0.1)\n",
    "]\n",
    "test_case_index = 1\n",
    "for func, a, b, step_size in test_cases:\n",
    "    root_found = find_root(func, a, b, step_size)\n",
    "    if root_found is not None:\n",
    "        print(f\"Test case {test_case_index}: Root found: {root_found:.10f}\")\n",
    "    else:\n",
    "        print(f\"Test case {test_case_index}: No root found.\")\n",
    "    \n",
    "    test_case_index += 1"
   ]
  },
  {
   "cell_type": "code",
   "execution_count": null,
   "id": "41c61962-99fb-429e-8183-051c261067ce",
   "metadata": {},
   "outputs": [],
   "source": []
  },
  {
   "cell_type": "code",
   "execution_count": null,
   "id": "47c57d9a-2bae-45ab-a3f7-26ecbc7824e2",
   "metadata": {
    "jupyter": {
     "source_hidden": true
    }
   },
   "outputs": [],
   "source": []
  },
  {
   "cell_type": "code",
   "execution_count": null,
   "id": "c2bb0d4c-d70e-49c2-a4af-83aa222a90ca",
   "metadata": {},
   "outputs": [],
   "source": []
  },
  {
   "cell_type": "code",
   "execution_count": null,
   "id": "e1b1de11-69ac-4358-886e-58fac6efa83f",
   "metadata": {},
   "outputs": [],
   "source": []
  }
 ],
 "metadata": {
  "kernelspec": {
   "display_name": "Python 3 (ipykernel)",
   "language": "python",
   "name": "python3"
  },
  "language_info": {
   "codemirror_mode": {
    "name": "ipython",
    "version": 3
   },
   "file_extension": ".py",
   "mimetype": "text/x-python",
   "name": "python",
   "nbconvert_exporter": "python",
   "pygments_lexer": "ipython3",
   "version": "3.11.9"
  }
 },
 "nbformat": 4,
 "nbformat_minor": 5
}
