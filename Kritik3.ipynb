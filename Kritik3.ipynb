{
 "cells": [
  {
   "cell_type": "code",
   "execution_count": 3,
   "id": "abe4b544-8b7c-46e9-914c-20b69f58291e",
   "metadata": {},
   "outputs": [
    {
     "name": "stdout",
     "output_type": "stream",
     "text": [
      "Left adjustment stopped at x = 0.6837719999909067\n",
      "Right adjustment stopped at x = 1.316227999973985\n",
      "Left adjustment stopped at x = 0.3778661633925092\n",
      "Right adjustment stopped at x = 1.1427021633918797\n",
      "Left adjustment stopped at x = -0.14483500000012417\n",
      "Right adjustment stopped at x = 0.1381660000001175\n"
     ]
    }
   ],
   "source": [
    "import numpy as np\n",
    "\n",
    "def f(x):\n",
    "    return x**2\n",
    "\n",
    "def g(x):\n",
    "    return np.sin(x)\n",
    "\n",
    "def h(x):\n",
    "    return np.exp(x)\n",
    "\n",
    "def approximate_derivative(f, c, E):\n",
    "    delta_x = 1e-8 \n",
    "    slope = (f(c + delta_x) - f(c - delta_x)) / (2 * delta_x)\n",
    "\n",
    "    left = c\n",
    "    right = c\n",
    "    left_error = abs(f(left) - f(c) - (left - c) * slope)\n",
    "    right_error = abs(f(right) - f(c) - (right - c) * slope)\n",
    "\n",
    "    while left_error < E:\n",
    "        left -= 1e-6\n",
    "        left_error = abs(f(left) - f(c) - (left - c) * slope)\n",
    "        if left_error >= E:\n",
    "            print(f\"Left adjustment stopped at x = {left}\")\n",
    "            break\n",
    "\n",
    "    while right_error < E:\n",
    "        right += 1e-6 \n",
    "        right_error = abs(f(right) - f(c) - (right - c) * slope)\n",
    "        if right_error >= E:\n",
    "            print(f\"Right adjustment stopped at x = {right}\")\n",
    "            break\n",
    "\n",
    "approximate_derivative(f, 1, 0.1)      # For f(x) = x^2\n",
    "approximate_derivative(g, np.pi / 4, 0.05)  # For g(x) = sin(x)\n",
    "approximate_derivative(h, 0, 0.01)     # For h(x) = exp(x)\n"
   ]
  },
  {
   "cell_type": "code",
   "execution_count": null,
   "id": "b46bf876-7443-4858-8ebe-48c5c1b2901d",
   "metadata": {},
   "outputs": [],
   "source": []
  }
 ],
 "metadata": {
  "kernelspec": {
   "display_name": "Python 3 (ipykernel)",
   "language": "python",
   "name": "python3"
  },
  "language_info": {
   "codemirror_mode": {
    "name": "ipython",
    "version": 3
   },
   "file_extension": ".py",
   "mimetype": "text/x-python",
   "name": "python",
   "nbconvert_exporter": "python",
   "pygments_lexer": "ipython3",
   "version": "3.11.9"
  }
 },
 "nbformat": 4,
 "nbformat_minor": 5
}
